{
 "cells": [
  {
   "cell_type": "markdown",
   "metadata": {},
   "source": [
    "# Generate Simulated Data\n",
    "-----\n",
    "\n",
    "This notebook shows how to use the `rqpy.sim.PulseSim` class to generate simulated data."
   ]
  },
  {
   "cell_type": "markdown",
   "metadata": {},
   "source": [
    "Import required packages for demo."
   ]
  },
  {
   "cell_type": "code",
   "execution_count": 1,
   "metadata": {},
   "outputs": [],
   "source": [
    "import numpy as np\n",
    "import pandas as pd\n",
    "from glob import glob\n",
    "from scipy import stats\n",
    "import rqpy as rp\n",
    "from cutbucket import CutUtils"
   ]
  },
  {
   "cell_type": "markdown",
   "metadata": {},
   "source": [
    "Specify the paths to the RQs and to the raw data, where the RQs have been generated using `rqpy.process.rq` (see the `process_data.ipynb` demo in the `demos/processing/` folder). We will load these RQs to input into the pulse simulation."
   ]
  },
  {
   "cell_type": "code",
   "execution_count": 2,
   "metadata": {},
   "outputs": [],
   "source": [
    "pathtorq = \"/path/to/saved/rqs/\"\n",
    "pathtodata = \"/path/to/raw/data/\"\n",
    "fs = 625e3"
   ]
  },
  {
   "cell_type": "code",
   "execution_count": 3,
   "metadata": {},
   "outputs": [
    {
     "name": "stdout",
     "output_type": "stream",
     "text": [
      "4739\n"
     ]
    }
   ],
   "source": [
    "filelist = sorted(glob(f\"{pathtorq}*dF*.pkl\"))\n",
    "print(len(filelist))"
   ]
  },
  {
   "cell_type": "code",
   "execution_count": 4,
   "metadata": {},
   "outputs": [
    {
     "name": "stdout",
     "output_type": "stream",
     "text": [
      "Series numbers included: [91812011525, 91812012114, 91812020849, 91812021102, 91812022128, 91812041814, 91812042314, 91812052152, 91812062018]\n",
      "The RQ DataFrame uses 1.53 GB of RAM\n"
     ]
    }
   ],
   "source": [
    "rq = pd.concat([pd.read_pickle(f) for f in filelist],\n",
    "               ignore_index=True)\n",
    "\n",
    "print(f\"Series numbers included: {sorted(set(rq.seriesnumber))}\")\n",
    "print(f\"The RQ DataFrame uses {rq.memory_usage(index=True, deep=True).sum()*1e-9:.2f} GB of RAM\")"
   ]
  },
  {
   "cell_type": "markdown",
   "metadata": {},
   "source": [
    "If the desired cuts are being stored in a repository using [CutBucket](https://github.com/ucbpylegroup/cutbucket), then we can load them here. Otherwise, they would need to be defined in this notebook, using the RQs in the loaded DataFrame."
   ]
  },
  {
   "cell_type": "code",
   "execution_count": 5,
   "metadata": {},
   "outputs": [
    {
     "name": "stdout",
     "output_type": "stream",
     "text": [
      "Connecting to GitHub Repository, please ensure that your ssh keys have been uploaded to GitHub account\n"
     ]
    }
   ],
   "source": [
    "cut_repo = CutUtils(\"/path/to/cut/repository/\", \"data_id\", lgcsync=True)\n",
    "\n",
    "cgood_randoms = cut_repo.loadcut(\"cgood_randoms\")"
   ]
  },
  {
   "cell_type": "markdown",
   "metadata": {},
   "source": [
    "We now specify a pulse shape, as well as the parameters for generating the amplitudes and time delay values of the pulses.\n",
    "\n",
    "In this case, we specify the time delay values of the pulses using a Gaussian distribution, and we specify the amplitudes of the pulses using a uniform distribution from 0 to 0.6 $\\mu \\mathrm{A}$."
   ]
  },
  {
   "cell_type": "code",
   "execution_count": 6,
   "metadata": {},
   "outputs": [
    {
     "name": "stdout",
     "output_type": "stream",
     "text": [
      "Generating data for series number 91812011525\n",
      "Generating data for series number 91812012114\n",
      "Generating data for series number 91812020849\n",
      "Generating data for series number 91812021102\n",
      "Generating data for series number 91812022128\n",
      "Generating data for series number 91812041814\n",
      "Generating data for series number 91812042314\n",
      "Generating data for series number 91812052152\n",
      "Generating data for series number 91812062018\n"
     ]
    }
   ],
   "source": [
    "template_sim = rp.make_ideal_template(np.arange(32500)/fs, 20e-6, 80e-6)\n",
    "\n",
    "for s in sorted(set(rq.seriesnumber)):\n",
    "    print(f\"Generating data for series number {s}\")\n",
    "    snum_str = f\"{s:012}\"\n",
    "    snum_str = snum_str[:8] + \"_\" + snum_str[8:]\n",
    "    \n",
    "    PS = rp.sim.PulseSim(rq, pathtodata, \"mid.gz\", template_sim, fs,\n",
    "                         cut=cgood_randoms)\n",
    "    PS.generate_sim_data(\"tdelay\", distribution=stats.norm, loc=0, scale=16e-6)\n",
    "    PS.generate_sim_data(\"amplitudes\", loc=0, scale=6e-7)\n",
    "    PS.run_sim(f\"/path/to/save/data/{snum_str}/\", channel=\"PBS1\", det=\"Z6\")"
   ]
  },
  {
   "cell_type": "code",
   "execution_count": null,
   "metadata": {},
   "outputs": [],
   "source": []
  }
 ],
 "metadata": {
  "kernelspec": {
   "display_name": "Python 3",
   "language": "python",
   "name": "python3"
  },
  "language_info": {
   "codemirror_mode": {
    "name": "ipython",
    "version": 3
   },
   "file_extension": ".py",
   "mimetype": "text/x-python",
   "name": "python",
   "nbconvert_exporter": "python",
   "pygments_lexer": "ipython3",
   "version": "3.7.2"
  }
 },
 "nbformat": 4,
 "nbformat_minor": 2
}
