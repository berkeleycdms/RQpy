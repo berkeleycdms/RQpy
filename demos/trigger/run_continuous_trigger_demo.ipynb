{
 "cells": [
  {
   "cell_type": "markdown",
   "metadata": {},
   "source": [
    "# Example Code for Using the Continuous Trigger Code\n",
    "------------------------\n",
    "Import the need packages to run the test notebook."
   ]
  },
  {
   "cell_type": "code",
   "execution_count": 1,
   "metadata": {},
   "outputs": [],
   "source": [
    "import numpy as np\n",
    "import matplotlib.pyplot as plt\n",
    "from glob import glob\n",
    "import qetpy as qp\n",
    "from rqpy import io, process\n",
    "from time import time\n",
    "\n",
    "%matplotlib inline"
   ]
  },
  {
   "cell_type": "markdown",
   "metadata": {},
   "source": [
    "Let's get a list of the included data that we will study. We'll use two Stanford DAQ .mat files."
   ]
  },
  {
   "cell_type": "code",
   "execution_count": 2,
   "metadata": {},
   "outputs": [],
   "source": [
    "fpath = sorted(glob(\"test_data_*.mat\"))"
   ]
  },
  {
   "cell_type": "markdown",
   "metadata": {},
   "source": [
    "We'll load one of the files, in order to take a look at the properties. Note the `convtoamps` optional argument. This is by default set to 1024, which is the current value that the Stanford data should be divided by in order to convert to Amps."
   ]
  },
  {
   "cell_type": "code",
   "execution_count": 3,
   "metadata": {},
   "outputs": [],
   "source": [
    "traces, times, fs, ttl = io.loadstanfordfile(fpath[0])"
   ]
  },
  {
   "cell_type": "markdown",
   "metadata": {},
   "source": [
    "Now, let's  first use the `acquire_randoms` function to find `n` random traces of the specified length `l`. These random traces are taken from the two datasets such that they can be anywhere in each file, but must not overlap with any other random trace. \n",
    "\n",
    "This function automatically saves the data to `.npz` files. This is because, in practice, the user may be running the trigger on large datasets. We do not want to store all of the traces in memory at the same time, so we save the events to files in dumps. We should input what we want to save the files as and where."
   ]
  },
  {
   "cell_type": "code",
   "execution_count": 4,
   "metadata": {},
   "outputs": [
    {
     "data": {
      "text/plain": [
       "\u001b[0;31mSignature:\u001b[0m \u001b[0mprocess\u001b[0m\u001b[0;34m.\u001b[0m\u001b[0macquire_randoms\u001b[0m\u001b[0;34m(\u001b[0m\u001b[0mfilelist\u001b[0m\u001b[0;34m,\u001b[0m \u001b[0mn\u001b[0m\u001b[0;34m,\u001b[0m \u001b[0ml\u001b[0m\u001b[0;34m,\u001b[0m \u001b[0mdatashape\u001b[0m\u001b[0;34m=\u001b[0m\u001b[0;32mNone\u001b[0m\u001b[0;34m,\u001b[0m \u001b[0miotype\u001b[0m\u001b[0;34m=\u001b[0m\u001b[0;34m'stanford'\u001b[0m\u001b[0;34m,\u001b[0m \u001b[0msavepath\u001b[0m\u001b[0;34m=\u001b[0m\u001b[0;32mNone\u001b[0m\u001b[0;34m,\u001b[0m \u001b[0msavename\u001b[0m\u001b[0;34m=\u001b[0m\u001b[0;32mNone\u001b[0m\u001b[0;34m,\u001b[0m \u001b[0mdumpnum\u001b[0m\u001b[0;34m=\u001b[0m\u001b[0;36m1\u001b[0m\u001b[0;34m,\u001b[0m \u001b[0mmaxevts\u001b[0m\u001b[0;34m=\u001b[0m\u001b[0;36m1000\u001b[0m\u001b[0;34m,\u001b[0m \u001b[0mconvtoamps\u001b[0m\u001b[0;34m=\u001b[0m\u001b[0;36m0.0009765625\u001b[0m\u001b[0;34m)\u001b[0m\u001b[0;34m\u001b[0m\u001b[0;34m\u001b[0m\u001b[0m\n",
       "\u001b[0;31mDocstring:\u001b[0m\n",
       "Function for acquiring random traces from a list of files and saving the results\n",
       "to a .npz file for later processing.\n",
       "\n",
       "Parameters\n",
       "----------\n",
       "filelist : list of strings\n",
       "    List of files to be opened to take random sections from (should be full paths)\n",
       "n : int\n",
       "    Number of sections to choose\n",
       "l : int\n",
       "    Length in bins of sections\n",
       "datashape : tuple, NoneType, optional\n",
       "    The shape of the data in each file. If inputted, this should be a tuple that is \n",
       "    (# of traces in a dataset, # of bins in each trace). If left as None, then the first file \n",
       "    in filelist is opened, and the shape of the data in it is used.\n",
       "iotype : string, optional\n",
       "    Type of file to open, uses a different IO function. Default is \"stanford\".\n",
       "        \"stanford\" : Use qetpy.io.loadstanfordfile to open the files\n",
       "savepath : NoneType, str, optional\n",
       "    Path to save the events to, if saveevents is True. If this is left as None, then they will\n",
       "    be saved in the current working directory.\n",
       "savename : NoneType, str, optional\n",
       "    Filename to save the events as. It is recommended that this follows CDMS format, which is \n",
       "    \"[code][lasttwodigitsofyear][month][day]_[24hourclocktime]\". If this is left as None, then \n",
       "    a dummy filename is used based on the inputted filelist.\n",
       "dumpnum : int, optional\n",
       "    The dump number that the file should start saving from and the event number should be \n",
       "    determined by when saving. Default is 1.\n",
       "maxevts : int, optional\n",
       "    The maximum number of events that should be stored in each dump when saving. Default\n",
       "    is 1000.\n",
       "convtoamps : float, optional\n",
       "    Correction factor to convert the data to Amps. The traces are multiplied by this\n",
       "    factor, as is the TTL channel (if it exists). Default is 1/1024.\n",
       "            \n",
       "    \n",
       "\u001b[0;31mFile:\u001b[0m      ~/.local/lib/python3.6/site-packages/rqpy/process/_trigger.py\n",
       "\u001b[0;31mType:\u001b[0m      function\n"
      ]
     },
     "metadata": {},
     "output_type": "display_data"
    }
   ],
   "source": [
    "process.acquire_randoms?"
   ]
  },
  {
   "cell_type": "code",
   "execution_count": 5,
   "metadata": {},
   "outputs": [
    {
     "name": "stdout",
     "output_type": "stream",
     "text": [
      "5.313980340957642\n"
     ]
    }
   ],
   "source": [
    "n, l = 100, 125000\n",
    "savepath = \"\"\n",
    "savename = \"test_data_randoms\"\n",
    "\n",
    "start = time()\n",
    "process.acquire_randoms(\n",
    "    fpath,\n",
    "    n,\n",
    "    l,\n",
    "    datashape=traces.shape[::2],\n",
    "    savepath=savepath,\n",
    "    savename=savename,\n",
    "    dumpnum=1,\n",
    "    maxevts=1000,\n",
    "    convtoamps=1 / 1024,\n",
    ")\n",
    "print(time()-start)"
   ]
  },
  {
   "cell_type": "markdown",
   "metadata": {},
   "source": [
    "Now, let's load the saved dataset(s) to see how the randoms data was saved. Since we save as a `.npz` file, we use `np.load` to open the file(s)."
   ]
  },
  {
   "cell_type": "code",
   "execution_count": 6,
   "metadata": {},
   "outputs": [
    {
     "name": "stdout",
     "output_type": "stream",
     "text": [
      "['pulsetimes', 'pulseamps', 'trigtimes', 'trigamps', 'randomstimes', 'traces', 'trigtypes', 'truthamps', 'truthtdelay']\n"
     ]
    }
   ],
   "source": [
    "with np.load(f\"test_data_randoms_0001.npz\") as data:\n",
    "    print(list(data.keys()))\n",
    "    randomstimes = data[\"randomstimes\"]\n",
    "    randomstraces = data[\"traces\"]"
   ]
  },
  {
   "cell_type": "markdown",
   "metadata": {},
   "source": [
    "Note that the only data that was saved were the times of the randoms and the traces. If we looked at the other fields, they would simply be empty."
   ]
  },
  {
   "cell_type": "markdown",
   "metadata": {},
   "source": [
    "With the randoms data loaded, we can sum the two channels and use `autocuts` to quickly choose the good traces. We can then estimate the PSD."
   ]
  },
  {
   "cell_type": "code",
   "execution_count": 7,
   "metadata": {
    "scrolled": true
   },
   "outputs": [],
   "source": [
    "pt = randomstraces.sum(axis=1)\n",
    "cut = qp.autocuts(pt, fs=fs)\n",
    "f, psd = qp.calc_psd(pt[cut], fs=fs, folded_over=False)"
   ]
  },
  {
   "cell_type": "code",
   "execution_count": 8,
   "metadata": {},
   "outputs": [
    {
     "data": {
      "image/png": "[encoded data removed]",
      "text/plain": [
       "<Figure size 720x432 with 1 Axes>"
      ]
     },
     "metadata": {
      "needs_background": "light"
     },
     "output_type": "display_data"
    }
   ],
   "source": [
    "f_fold, psd_fold = qp.foldpsd(psd, fs=fs)\n",
    "\n",
    "fig, ax = plt.subplots(figsize=(10,6))\n",
    "ax.plot(f_fold, np.sqrt(psd_fold))\n",
    "ax.set_yscale(\"log\")\n",
    "ax.set_xscale(\"log\")\n",
    "ax.set_xlabel(\"Frequency [Hz]\")\n",
    "ax.set_ylabel(r\"One-Sided PSD [A/$\\sqrt{\\mathrm{Hz}}$]\");\n",
    "ax.grid()\n",
    "ax.grid(which=\"minor\", linestyle=\"dotted\")\n",
    "ax.set_title(\"Estimated PSD\");"
   ]
  },
  {
   "cell_type": "markdown",
   "metadata": {},
   "source": [
    "Now, we want to start detecting events via the pulse/ttl triggers, which will do via the `acquire_pulses` function. We can look at the documentation to see what the inputs/outputs will be."
   ]
  },
  {
   "cell_type": "code",
   "execution_count": 9,
   "metadata": {},
   "outputs": [
    {
     "data": {
      "text/plain": [
       "\u001b[0;31mSignature:\u001b[0m \u001b[0mprocess\u001b[0m\u001b[0;34m.\u001b[0m\u001b[0macquire_pulses\u001b[0m\u001b[0;34m(\u001b[0m\u001b[0mfilelist\u001b[0m\u001b[0;34m,\u001b[0m \u001b[0mtemplate\u001b[0m\u001b[0;34m,\u001b[0m \u001b[0mnoisepsd\u001b[0m\u001b[0;34m,\u001b[0m \u001b[0mtracelength\u001b[0m\u001b[0;34m,\u001b[0m \u001b[0mthresh\u001b[0m\u001b[0;34m,\u001b[0m \u001b[0mnchan\u001b[0m\u001b[0;34m=\u001b[0m\u001b[0;36m2\u001b[0m\u001b[0;34m,\u001b[0m \u001b[0mtrigtemplate\u001b[0m\u001b[0;34m=\u001b[0m\u001b[0;32mNone\u001b[0m\u001b[0;34m,\u001b[0m \u001b[0mtrigthresh\u001b[0m\u001b[0;34m=\u001b[0m\u001b[0;32mNone\u001b[0m\u001b[0;34m,\u001b[0m \u001b[0mpositivepulses\u001b[0m\u001b[0;34m=\u001b[0m\u001b[0;32mTrue\u001b[0m\u001b[0;34m,\u001b[0m \u001b[0miotype\u001b[0m\u001b[0;34m=\u001b[0m\u001b[0;34m'stanford'\u001b[0m\u001b[0;34m,\u001b[0m \u001b[0msavepath\u001b[0m\u001b[0;34m=\u001b[0m\u001b[0;32mNone\u001b[0m\u001b[0;34m,\u001b[0m \u001b[0msavename\u001b[0m\u001b[0;34m=\u001b[0m\u001b[0;32mNone\u001b[0m\u001b[0;34m,\u001b[0m \u001b[0mdumpnum\u001b[0m\u001b[0;34m=\u001b[0m\u001b[0;36m1\u001b[0m\u001b[0;34m,\u001b[0m \u001b[0mmaxevts\u001b[0m\u001b[0;34m=\u001b[0m\u001b[0;36m1000\u001b[0m\u001b[0;34m,\u001b[0m \u001b[0mlgcoverlap\u001b[0m\u001b[0;34m=\u001b[0m\u001b[0;32mTrue\u001b[0m\u001b[0;34m,\u001b[0m \u001b[0mconvtoamps\u001b[0m\u001b[0;34m=\u001b[0m\u001b[0;36m0.0009765625\u001b[0m\u001b[0;34m)\u001b[0m\u001b[0;34m\u001b[0m\u001b[0;34m\u001b[0m\u001b[0m\n",
       "\u001b[0;31mDocstring:\u001b[0m\n",
       "Function for running the continuous trigger on many different files and saving the events \n",
       "to .npz files for later processing.\n",
       "\n",
       "Parameters\n",
       "----------\n",
       "filelist : list of strings\n",
       "    List of files to be opened to take random sections from (should be full paths)\n",
       "template : ndarray\n",
       "    The pulse template to be used when creating the optimum filter (assumed to be normalized)\n",
       "noisepsd : ndarray\n",
       "    The two-sided power spectral density in units of A^2/Hz\n",
       "tracelength : int\n",
       "    The desired trace length (in bins) to be saved when triggering on events.\n",
       "thresh : float\n",
       "    The number of standard deviations of the energy resolution to use as the threshold for which events\n",
       "    will be detected as a pulse.\n",
       "trigtemplate : NoneType, ndarray, optional\n",
       "    The template for the trigger channel pulse. If left as None, then the trigger channel will not\n",
       "    be analyzed.\n",
       "trigthresh : NoneType, float, optional\n",
       "    The threshold value (in units of the trigger channel) such that any amplitudes higher than this will be \n",
       "    detected as ttl trigger event. If left as None, then only the pulses are analyzed.\n",
       "positivepulses : boolean, optional\n",
       "    Boolean flag for which direction the pulses go in the traces. If they go in the positive direction, \n",
       "    then this should be set to True. If they go in the negative direction, then this should be set to False.\n",
       "    Default is True.\n",
       "iotype : string, optional\n",
       "    Type of file to open, uses a different IO function. Default is \"stanford\".\n",
       "        \"stanford\" : Use qetpy.io.loadstanfordfile to open the files\n",
       "savepath : NoneType, str, optional\n",
       "    Path to save the events to, if saveevents is True. If this is left as None, then they will\n",
       "    be saved in the current working directory.\n",
       "savename : NoneType, str, optional\n",
       "    Filename to save the events as. It is recommended that this follows CDMS format, which is \n",
       "    \"[code][lasttwodigitsofyear][month][day]_[24hourclocktime]\". If this is left as None, then \n",
       "    a dummy filename is used based on the inputted filelist.\n",
       "dumpnum : int, optional\n",
       "    The dump number that the file should start saving from and the event number should be \n",
       "    determined by when saving. Default is 1.\n",
       "maxevts : int, optional\n",
       "    The maximum number of events that should be stored in each dump when saving. Default\n",
       "    is 1000.\n",
       "lgcoverlap : bool, optional\n",
       "        If False, in eventtrigger skip events that overlap, based on tracelength, with the previous event.\n",
       "convtoamps : float, optional\n",
       "    Correction factor to convert the data to Amps. The traces are multiplied by this\n",
       "    factor, as is the TTL channel (if it exists). Default is 1/1024.\n",
       "        \n",
       "\u001b[0;31mFile:\u001b[0m      ~/.local/lib/python3.6/site-packages/rqpy/process/_trigger.py\n",
       "\u001b[0;31mType:\u001b[0m      function\n"
      ]
     },
     "metadata": {},
     "output_type": "display_data"
    }
   ],
   "source": [
    "process.acquire_pulses?"
   ]
  },
  {
   "cell_type": "markdown",
   "metadata": {},
   "source": [
    "Let's make a dummy pulse template that is close to what we've historically seen. A more detailed pulse template analysis would need to be done in practice, but we can do this for a quick test."
   ]
  },
  {
   "cell_type": "code",
   "execution_count": 10,
   "metadata": {},
   "outputs": [],
   "source": [
    "tracelength = 125000\n",
    "# Dummy pulse template\n",
    "nbin = len(psd)\n",
    "ind_trigger = round(nbin / 2)\n",
    "tt = 1.0/fs *(np.arange(1, nbin+1) - ind_trigger)\n",
    "lgc_b0 = tt < 0.0\n",
    "\n",
    "# pulse shape\n",
    "tau_rise = 20.0e-6\n",
    "tau_fall = 80.0e-6\n",
    "testtemplate = np.exp(-tt / tau_fall) - np.exp(-tt / tau_rise)\n",
    "testtemplate[lgc_b0] = 0.0\n",
    "testtemplate = testtemplate / max(testtemplate)"
   ]
  },
  {
   "cell_type": "markdown",
   "metadata": {},
   "source": [
    "Since we have a TTL channel in this data, we want to also set a TTL template, so that we can detect the TTL triggers. These look like short square wave pulses. Note that if the TTL pulses are in the negative direction (such is in this case), then the user should simply multiply this TTL template by -1."
   ]
  },
  {
   "cell_type": "code",
   "execution_count": 11,
   "metadata": {},
   "outputs": [],
   "source": [
    "nbinttl = 64\n",
    "ttltime = 8e-6 # length of ttl pulse in seconds\n",
    "ttllen = int(ttltime * fs)\n",
    "ind_trigger = ttllen//2\n",
    "\n",
    "ttltemplate = np.zeros(nbinttl)\n",
    "ttltemplate[ind_trigger:ind_trigger + ttllen] = -1"
   ]
  },
  {
   "cell_type": "markdown",
   "metadata": {},
   "source": [
    "Let's set the thresholds. The pulse threshold is set to 10$\\sigma$ of the energy resolution, in order to ensure we get pulses. The TTL threshold is set to 0.2, which was done by hand. This was set to a value that is lower than the true amplitude of the TTL pulse (which, in this case, is 1.0), such that the TTL pulses will be detected as when the estimated TTL amplitude is greater than the set threshold. Note that the TTL threshold can be low, which is because the TTL channel has nearly no noise."
   ]
  },
  {
   "cell_type": "code",
   "execution_count": 12,
   "metadata": {},
   "outputs": [],
   "source": [
    "thresh = 10\n",
    "ttlthresh = 0.2"
   ]
  },
  {
   "cell_type": "markdown",
   "metadata": {},
   "source": [
    "We can now run the continuous trigger on the two data files using `acquire_pulses`, setting the path and filename to use when saving the data."
   ]
  },
  {
   "cell_type": "code",
   "execution_count": 13,
   "metadata": {},
   "outputs": [
    {
     "name": "stdout",
     "output_type": "stream",
     "text": [
      "14.373101472854614\n"
     ]
    }
   ],
   "source": [
    "savepath = \"\"\n",
    "savename = \"test_data_pulses\"\n",
    "\n",
    "start = time()\n",
    "process.acquire_pulses(\n",
    "    fpath,\n",
    "    testtemplate,\n",
    "    psd * 1024**2,\n",
    "    tracelength,\n",
    "    thresh,\n",
    "    positivepulses=False,\n",
    "    trigtemplate=ttltemplate,\n",
    "    trigthresh=ttlthresh,\n",
    "    iotype=\"stanford\",\n",
    "    savepath=savepath,\n",
    "    savename=savename,\n",
    "    dumpnum=1,\n",
    "    maxevts=1000,\n",
    "    convtoamps=1,\n",
    ")\n",
    "print(time()-start)"
   ]
  },
  {
   "cell_type": "markdown",
   "metadata": {},
   "source": [
    "Now that we've ran the continuous trigger on the data, let's load the first dump to see what the events look like."
   ]
  },
  {
   "cell_type": "code",
   "execution_count": 14,
   "metadata": {},
   "outputs": [
    {
     "name": "stdout",
     "output_type": "stream",
     "text": [
      "['pulsetimes', 'pulseamps', 'trigtimes', 'trigamps', 'randomstimes', 'traces', 'trigtypes', 'truthamps', 'truthtdelay']\n"
     ]
    }
   ],
   "source": [
    "with np.load(\"test_data_pulses_0001.npz\") as data:\n",
    "    print(list(data.keys()))\n",
    "    trigtimes = data[\"trigtimes\"]\n",
    "    trigamps = data[\"trigamps\"]\n",
    "    pulsetimes = data[\"pulsetimes\"]\n",
    "    pulseamps = data[\"pulseamps\"]\n",
    "    trigtypes = data[\"trigtypes\"]\n",
    "    traces = data[\"traces\"]"
   ]
  },
  {
   "cell_type": "markdown",
   "metadata": {},
   "source": [
    "Let's look at the first detected event to see a triggered event."
   ]
  },
  {
   "cell_type": "code",
   "execution_count": 15,
   "metadata": {},
   "outputs": [
    {
     "name": "stdout",
     "output_type": "stream",
     "text": [
      "[False  True  True]\n"
     ]
    }
   ],
   "source": [
    "ii = 0\n",
    "print(trigtypes[ii])"
   ]
  },
  {
   "cell_type": "markdown",
   "metadata": {},
   "source": [
    "Note that the trigger types array for this event says that both the pulse and TTL were triggered. The code has been written such that the traces are centered on the TTL trigger (i.e. the TTL is the primary trigger). However, we save the time and amplitude of the pulse as well. Thus, to compare the pulse and the template, we need to take this time difference into account.\n",
    "\n",
    "Let's look at the result, zoomed into the center of the trace to see the pulse."
   ]
  },
  {
   "cell_type": "code",
   "execution_count": 16,
   "metadata": {},
   "outputs": [
    {
     "data": {
      "image/png": "[encoded data removed]",
      "text/plain": [
       "<Figure size 432x288 with 1 Axes>"
      ]
     },
     "metadata": {
      "needs_background": "light"
     },
     "output_type": "display_data"
    }
   ],
   "source": [
    "plt.plot(\n",
    "    traces[ii].sum(axis=0)[traces.shape[-1]//2 - 3000:traces.shape[-1]//2 + 3000],\n",
    ")\n",
    "\n",
    "temp = testtemplate * pulseamps[ii] + traces[ii].sum(axis=0).mean()\n",
    "if trigtimes[ii]!=0:\n",
    "    temp = np.roll(\n",
    "        temp,\n",
    "        int((pulsetimes[ii] - trigtimes[ii]) * fs),\n",
    "    )\n",
    "\n",
    "plt.plot(\n",
    "    temp[traces.shape[-1]//2 - 3000:traces.shape[-1]//2 + 3000],\n",
    ");"
   ]
  },
  {
   "cell_type": "markdown",
   "metadata": {},
   "source": [
    "And we see a pulse!"
   ]
  },
  {
   "cell_type": "code",
   "execution_count": null,
   "metadata": {},
   "outputs": [],
   "source": []
  }
 ],
 "metadata": {
  "kernelspec": {
   "display_name": "Python 3",
   "language": "python",
   "name": "python3"
  },
  "language_info": {
   "codemirror_mode": {
    "name": "ipython",
    "version": 3
   },
   "file_extension": ".py",
   "mimetype": "text/x-python",
   "name": "python",
   "nbconvert_exporter": "python",
   "pygments_lexer": "ipython3",
   "version": "3.6.9"
  }
 },
 "nbformat": 4,
 "nbformat_minor": 4
}
