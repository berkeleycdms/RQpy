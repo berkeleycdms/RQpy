{
 "cells": [
  {
   "cell_type": "markdown",
   "metadata": {},
   "source": [
    "# General Notebook for Template Creation\n",
    "------\n",
    "\n",
    "Import the needed packages."
   ]
  },
  {
   "cell_type": "code",
   "execution_count": 1,
   "metadata": {},
   "outputs": [],
   "source": [
    "import qetpy as qp\n",
    "import numpy as np\n",
    "import matplotlib.pyplot as plt\n",
    "import pickle as pkl\n",
    "from rqpy import io\n",
    "import rqpy as rp\n",
    "import pandas as pd\n",
    "from glob import glob"
   ]
  },
  {
   "cell_type": "markdown",
   "metadata": {},
   "source": [
    "Specify which series we will be creating a PSD from (assuming we have beginning-of-run randoms)."
   ]
  },
  {
   "cell_type": "code",
   "execution_count": 2,
   "metadata": {},
   "outputs": [],
   "source": [
    "series = '11111111_1111' # data series to pull randoms from for making the template\n",
    "\n",
    "# set the path to the raw files to process\n",
    "basepath = '/path/to/raw/data/'\n",
    "\n",
    "# set the detector labels and corresponding channels\n",
    "labels = [\"Detector 1\"]\n",
    "channels = [\"PFS1\"]\n",
    "det = ['Z1'] * len(channels)\n",
    "\n",
    "fs = 625e3"
   ]
  },
  {
   "cell_type": "code",
   "execution_count": 3,
   "metadata": {},
   "outputs": [
    {
     "name": "stdout",
     "output_type": "stream",
     "text": [
      "There are 10 files.\n"
     ]
    }
   ],
   "source": [
    "filelist = sorted(glob(f\"{basepath}{series}/*\"))[:10] # first 10 dumps should have about 5000 randoms\n",
    "print(f\"There are {len(filelist)} files.\")"
   ]
  },
  {
   "cell_type": "markdown",
   "metadata": {},
   "source": [
    "Get the factor for converting from ADC bins to Amps. Also print QET bias in order to check that things make sense."
   ]
  },
  {
   "cell_type": "code",
   "execution_count": 4,
   "metadata": {},
   "outputs": [
    {
     "name": "stdout",
     "output_type": "stream",
     "text": [
      "PFS1 -104.0\n"
     ]
    }
   ],
   "source": [
    "convtoamps = []\n",
    "for ch, d in zip(channels, det):\n",
    "    convtoamps.append(io.get_trace_gain(f\"{basepath}{series}/\", ch, d)[0])\n",
    "    print(ch, io.get_trace_gain(f\"{basepath}{series}/\", ch, d)[-1]*1e6)"
   ]
  },
  {
   "cell_type": "markdown",
   "metadata": {},
   "source": [
    "Open the raw data to get beginning of run randoms."
   ]
  },
  {
   "cell_type": "code",
   "execution_count": 5,
   "metadata": {},
   "outputs": [],
   "source": [
    "events, info_dict = io.get_traces_midgz(filelist, channels, det, convtoamps=convtoamps, lgcreturndict=True)"
   ]
  },
  {
   "cell_type": "markdown",
   "metadata": {},
   "source": [
    "`tlen` specifies if we want to truncate the traces."
   ]
  },
  {
   "cell_type": "code",
   "execution_count": 6,
   "metadata": {},
   "outputs": [
    {
     "name": "stdout",
     "output_type": "stream",
     "text": [
      "tlen = 32768 -> ~52.43 ms traces, truncated from nbin = 32768 -> ~52.43 ms traces.\n"
     ]
    }
   ],
   "source": [
    "tlen = events.shape[-1]\n",
    "nbin = events.shape[-1]\n",
    "if tlen > nbin:\n",
    "    tlen = nbin\n",
    "print(f\"tlen = {tlen} -> ~{tlen/fs*1e3:.2f} ms traces, truncated from nbin = {nbin} -> ~{nbin/fs*1e3:.2f} ms traces.\")"
   ]
  },
  {
   "cell_type": "markdown",
   "metadata": {},
   "source": [
    "Extract the beginning-of-run randoms from the loaded traces."
   ]
  },
  {
   "cell_type": "code",
   "execution_count": 7,
   "metadata": {},
   "outputs": [
    {
     "name": "stdout",
     "output_type": "stream",
     "text": [
      "There are 3000 randoms loaded.\n"
     ]
    }
   ],
   "source": [
    "cevent = []\n",
    "for d in set(det):\n",
    "    cevent.append(np.array(info_dict[f'readoutstatus{d}'])==1)\n",
    "\n",
    "cevent = np.logical_and.reduce(cevent)\n",
    "cpsd = cevent & (np.array(info_dict['triggertype'])==2)\n",
    "\n",
    "x = events[cpsd, ..., nbin//2 - tlen//2:nbin//2 + tlen//2 + tlen%2]\n",
    "print(f\"There are {cpsd.sum()} randoms loaded.\")"
   ]
  },
  {
   "cell_type": "markdown",
   "metadata": {},
   "source": [
    "Make PSDs using `qetpy.autocuts`."
   ]
  },
  {
   "cell_type": "code",
   "execution_count": 8,
   "metadata": {},
   "outputs": [
    {
     "name": "stdout",
     "output_type": "stream",
     "text": [
      "Calculating PSD for channel PFS1, detector Z1\n"
     ]
    }
   ],
   "source": [
    "template_dict = {}\n",
    "for ii, (chan, d) in enumerate(zip(channels, det)):\n",
    "    print(f\"Calculating PSD for channel {chan}, detector {d}\")\n",
    "    cut = qp.autocuts(x[:, ii], fs=fs)\n",
    "    f, psd = qp.calc_psd(x[cut, ii], fs=fs, folded_over=False)\n",
    "    f_fold, psd_fold = qp.foldpsd(psd, fs)\n",
    "    \n",
    "    template_dict[f\"f_{chan}{d}\"] = f\n",
    "    template_dict[f\"psd_{chan}{d}\"] = psd\n",
    "    template_dict[f\"f_fold_{chan}{d}\"] = f_fold\n",
    "    template_dict[f\"psd_fold_{chan}{d}\"] = psd_fold\n",
    "    print(f\"The passage fraction for {chan}{d} is {cut.sum()/cpsd.sum():.3f}\")    \n",
    "\n",
    "template_dict[\"convtoamps\"] = convtoamps"
   ]
  },
  {
   "cell_type": "markdown",
   "metadata": {},
   "source": [
    "Plot the PSDs that were calculated using `qetpy.autocuts`."
   ]
  },
  {
   "cell_type": "code",
   "execution_count": 9,
   "metadata": {},
   "outputs": [],
   "source": [
    "fig, ax = plt.subplots(figsize=(10, 6))\n",
    "\n",
    "for ii, (chan, d) in enumerate(zip(channels, det)):\n",
    "    ax.loglog(template_dict[f'f_fold_{chan}{d}'], template_dict[f'psd_fold_{chan}{d}']**0.5, \n",
    "              label=f\"{labels[ii]}\")\n",
    "ax.legend()\n",
    "ax.tick_params(which=\"both\", direction=\"in\", right=True, top=True)\n",
    "ax.grid(which=\"minor\", linestyle=\"dotted\")\n",
    "ax.grid(which=\"major\")\n",
    "ax.set_title(f\"Run 51: Threshold PSDs, {series}\", fontsize=14)\n",
    "ax.set_ylim(1e-12, 1e-8);\n",
    "ax.set_xlabel(\"Frequency [Hz]\", fontsize=14)\n",
    "ax.set_ylabel(\"Current PSD [A/$\\sqrt{\\mathrm{Hz}}$]\", fontsize=14)\n",
    "ax.set_xlim(6, 5.1e5)\n",
    "fig.tight_layout()"
   ]
  },
  {
   "cell_type": "markdown",
   "metadata": {},
   "source": [
    "In this notebook, we use `rqpy.make_ideal_template` to create the expected pulse shapes for each channel.\n",
    "\n",
    "The pulse shapes from G147 and T5Z2 were calculated from fitting data via `qetpy.OFnonlin`. The PD2 and TES chip were determined from the theoretical TES rise and fall times. (PD2 has a phonon collection time of 20 us and an effective TES fall time of 80 us. The TES chip has an electronic rise time of about 3 us and a fall time of about 100 us.)\n",
    "\n",
    "Note the added offset to the templates. This is because the pulses in the real data do not trigger exactly in the middle of the traces, but a little bit before the middle. Thus, we add the expected offset such that the template is placed where the expected trigger is (which if an offset of -250 for this data). This offset will likely change for each dataset!"
   ]
  },
  {
   "cell_type": "code",
   "execution_count": 10,
   "metadata": {},
   "outputs": [],
   "source": [
    "risetimes = [20e-6] # rise times for each channel in s\n",
    "falltimes = [69e-6] # fall times for each channel in s\n",
    "\n",
    "for ii, (ch, d) in enumerate(zip(channels, det)):\n",
    "    template_dict[f'template_{ch}{d}'] = rp.make_ideal_template(\n",
    "        np.arange(events.shape[-1])/fs,\n",
    "        risetimes[ii],\n",
    "        falltimes[ii],\n",
    "        offset=-250,\n",
    "    )[nbin//2 - tlen//2:nbin//2 + tlen//2 + tlen%2]"
   ]
  },
  {
   "cell_type": "markdown",
   "metadata": {},
   "source": [
    "Plot each template to make sure they are well-aligned with PD2 (our trigger channel)."
   ]
  },
  {
   "cell_type": "code",
   "execution_count": 11,
   "metadata": {},
   "outputs": [
    {
     "data": {
      "image/png": "[encoded data removed]",
      "text/plain": [
       "<Figure size 432x288 with 1 Axes>"
      ]
     },
     "metadata": {
      "needs_background": "light"
     },
     "output_type": "display_data"
    }
   ],
   "source": [
    "for ch, d in zip(channels, det):\n",
    "    plt.plot(template_dict[f'template_{ch}{d}'], label=f\"{ch}{d}\")\n",
    "plt.xlim(tlen//2 - 400, tlen//2 + 0)\n",
    "plt.legend();"
   ]
  },
  {
   "cell_type": "markdown",
   "metadata": {},
   "source": [
    "Save the dictionary to a specified path."
   ]
  },
  {
   "cell_type": "code",
   "execution_count": 12,
   "metadata": {},
   "outputs": [
    {
     "name": "stdout",
     "output_type": "stream",
     "text": [
      "/path/save/template/template_11111111_1111_v1\n"
     ]
    }
   ],
   "source": [
    "pathtotemplate = '/path/save/template/'\n",
    "\n",
    "filename = f\"{pathtotemplate}template_{series}\"\n",
    "\n",
    "nversions = len(glob(f\"{filename}*\"))+1\n",
    "\n",
    "if nversions>0:\n",
    "    filename = filename + f\"_v{nversions}\"\n",
    "print(filename)"
   ]
  },
  {
   "cell_type": "markdown",
   "metadata": {},
   "source": [
    "Uncomment and run the below cell to actually save the file."
   ]
  },
  {
   "cell_type": "code",
   "execution_count": 13,
   "metadata": {},
   "outputs": [],
   "source": [
    "# with open(f\"{filename}.pkl\", 'wb') as f:\n",
    "#     pkl.dump(template_dict, f)"
   ]
  },
  {
   "cell_type": "code",
   "execution_count": null,
   "metadata": {},
   "outputs": [],
   "source": []
  }
 ],
 "metadata": {
  "kernelspec": {
   "display_name": "Python 3",
   "language": "python",
   "name": "python3"
  },
  "language_info": {
   "codemirror_mode": {
    "name": "ipython",
    "version": 3
   },
   "file_extension": ".py",
   "mimetype": "text/x-python",
   "name": "python",
   "nbconvert_exporter": "python",
   "pygments_lexer": "ipython3",
   "version": "3.7.2"
  }
 },
 "nbformat": 4,
 "nbformat_minor": 2
}
