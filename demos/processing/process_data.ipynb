{
 "cells": [
  {
   "cell_type": "markdown",
   "metadata": {},
   "source": [
    "# General Data Processing Notebook\n",
    "-----------\n",
    "Import the needed packages."
   ]
  },
  {
   "cell_type": "code",
   "execution_count": 1,
   "metadata": {},
   "outputs": [],
   "source": [
    "import numpy as np\n",
    "import pandas as pd\n",
    "import pickle as pkl\n",
    "from glob import glob\n",
    "from rqpy import process, io\n",
    "from time import time as tm\n",
    "import matplotlib.pyplot as plt"
   ]
  },
  {
   "cell_type": "markdown",
   "metadata": {},
   "source": [
    "## Define Paths"
   ]
  },
  {
   "cell_type": "markdown",
   "metadata": {},
   "source": [
    "Define a list of paths to each series to be processed, as well as the channels (and corresponding detectors)."
   ]
  },
  {
   "cell_type": "code",
   "execution_count": 2,
   "metadata": {},
   "outputs": [],
   "source": [
    "pathstotraces = [\n",
    "                 '/path/to/raw/data/series/11111111_1111',\n",
    "                ]\n",
    "\n",
    "# set to True to save the RQs\n",
    "lgcsave = True\n",
    "savepath = \"/path/to/save/rqs/\"\n",
    "\n",
    "# set to None to process all dumps\n",
    "maxdumps = None\n",
    "\n",
    "# choose the channels/detector that will be processed\n",
    "channels = ['PFS1']\n",
    "det = ['Z1']*len(channels)\n",
    "\n",
    "fs = 625e3"
   ]
  },
  {
   "cell_type": "markdown",
   "metadata": {},
   "source": [
    "## Load template\n",
    "\n",
    "Specify the path to the pulse template/PSD. It is assumed that the user made the pulse template and PSD using the `make_template.ipynb` demo."
   ]
  },
  {
   "cell_type": "code",
   "execution_count": 3,
   "metadata": {},
   "outputs": [],
   "source": [
    "# update the path to the template\n",
    "pathtotemplate = \"/path/save/template/template_11111111_1111_v1.pkl\"\n",
    "with open(f'{pathtotemplate}', 'rb') as file:\n",
    "    template_dict = pkl.load(file)\n",
    "\n",
    "# extract the templates/psds (assuming they were made with make_template.ipynb)\n",
    "psds = [template_dict[f'psd_{chan}{d}'] for chan, d in zip(channels, det)]\n",
    "templates = [template_dict[f'template_{chan}{d}'] for chan, d in zip(channels, det)]"
   ]
  },
  {
   "cell_type": "markdown",
   "metadata": {},
   "source": [
    "## Setup the RQ Settings\n",
    "\n",
    "Use `rqpy.process.SetupRQ` to set up which RQs we want to calculate for all of the raw data. There are default values set so that the user could run this notebook without adjusting any of the RQ settings, but we show an example setup below."
   ]
  },
  {
   "cell_type": "code",
   "execution_count": 4,
   "metadata": {},
   "outputs": [],
   "source": [
    "setup = process.SetupRQ(templates, psds, fs, trigger=0)\n",
    "setup.adjust_baseline(indbasepre=16000)\n",
    "setup.adjust_integral(indstart=16000, \n",
    "                      indstop=18000)\n",
    "setup.adjust_maxmin(use_min=False)\n",
    "setup.adjust_ofamp_nodelay(calc_lowfreqchi2=True)\n",
    "setup.adjust_ofamp_unconstrained(calc_lowfreqchi2=True, \n",
    "                                 pulse_direction_constraint=1)\n",
    "setup.adjust_ofamp_constrained(nconstrain=100,\n",
    "                               calc_lowfreqchi2=True,\n",
    "                               pulse_direction_constraint=1)\n",
    "setup.adjust_ofamp_pileup(lgcrun=False)\n",
    "setup.adjust_chi2_lowfreq(fcutoff=16000)"
   ]
  },
  {
   "cell_type": "markdown",
   "metadata": {},
   "source": [
    "## Loop Through Each Path, Calculating RQs\n",
    "\n",
    "We now loop through all of the paths in `pathstotraces`, running the `rqpy.process.rq` function on each file. This function calculates the specified RQs from the `rqpy.process.SetupRQ` function and saves them to Pandas DataFrames as Pickle files for future analysis."
   ]
  },
  {
   "cell_type": "code",
   "execution_count": 5,
   "metadata": {
    "scrolled": false
   },
   "outputs": [
    {
     "name": "stdout",
     "output_type": "stream",
     "text": [
      "Processing bundle 0\n",
      "There are 10 dumps.\n",
      "On Series: 11111111_1111,  dump: F0001\n",
      "On Series: 11111111_1111,  dump: F0002\n",
      "On Series: 11111111_1111,  dump: F0003\n",
      "On Series: 11111111_1111,  dump: F0004\n",
      "On Series: 11111111_1111,  dump: F0005\n",
      "On Series: 11111111_1111,  dump: F0006\n",
      "On Series: 11111111_1111,  dump: F0007\n",
      "On Series: 11111111_1111,  dump: F0008\n",
      "On Series: 11111111_1111,  dump: F0009\n",
      "On Series: 11111111_1111,  dump: F0010\n",
      "252.10492968559265\n"
     ]
    }
   ],
   "source": [
    "start = tm()\n",
    "for ii, bundle in enumerate(pathstotraces):\n",
    "    print(f'Processing bundle {ii}')\n",
    "    \n",
    "    if maxdumps is None:\n",
    "        dumps = sorted(glob(f\"{bundle}*.mid.gz\"))\n",
    "    else:\n",
    "        dumps = sorted(glob(f\"{bundle}*.mid.gz\"))[:maxdumps]\n",
    "        \n",
    "    print(f\"There are {len(dumps)} dumps.\")\n",
    "    series = bundle.rstrip('/').split('/')[-1]\n",
    "    \n",
    "    rq = process.rq(filelist=dumps, channels=channels, det=det, setup=setup, filetype=\"mid.gz\",\n",
    "                    lgcsavedumps=lgcsave, savepath=savepath, nprocess=1)\n",
    "    \n",
    "    if lgcsave:\n",
    "        version = len(glob(f'{savepath}rq_df_{series}_v*.pkl')) + 1\n",
    "        rq.to_pickle(f'{savepath}rq_df_{series}_v{version}.pkl')\n",
    "        \n",
    "print(tm()-start)"
   ]
  },
  {
   "cell_type": "code",
   "execution_count": null,
   "metadata": {},
   "outputs": [],
   "source": []
  }
 ],
 "metadata": {
  "hide_input": false,
  "kernelspec": {
   "display_name": "Python 3",
   "language": "python",
   "name": "python3"
  },
  "language_info": {
   "codemirror_mode": {
    "name": "ipython",
    "version": 3
   },
   "file_extension": ".py",
   "mimetype": "text/x-python",
   "name": "python",
   "nbconvert_exporter": "python",
   "pygments_lexer": "ipython3",
   "version": "3.7.2"
  },
  "latex_envs": {
   "LaTeX_envs_menu_present": true,
   "autoclose": false,
   "autocomplete": true,
   "bibliofile": "biblio.bib",
   "cite_by": "apalike",
   "current_citInitial": 1,
   "eqLabelWithNumbers": true,
   "eqNumInitial": 1,
   "hotkeys": {
    "equation": "Ctrl-E",
    "itemize": "Ctrl-I"
   },
   "labels_anchors": false,
   "latex_user_defs": false,
   "report_style_numbering": false,
   "user_envs_cfg": false
  },
  "toc": {
   "base_numbering": 1,
   "nav_menu": {},
   "number_sections": true,
   "sideBar": true,
   "skip_h1_title": true,
   "title_cell": "Table of Contents",
   "title_sidebar": "Contents",
   "toc_cell": true,
   "toc_position": {},
   "toc_section_display": true,
   "toc_window_display": false
  }
 },
 "nbformat": 4,
 "nbformat_minor": 2
}
